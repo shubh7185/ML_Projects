{
  "nbformat": 4,
  "nbformat_minor": 0,
  "metadata": {
    "colab": {
      "provenance": [],
      "authorship_tag": "ABX9TyPEKEGTIHQaQGE7W4C3xv3H",
      "include_colab_link": true
    },
    "kernelspec": {
      "name": "python3",
      "display_name": "Python 3"
    },
    "language_info": {
      "name": "python"
    }
  },
  "cells": [
    {
      "cell_type": "markdown",
      "metadata": {
        "id": "view-in-github",
        "colab_type": "text"
      },
      "source": [
        "<a href=\"https://colab.research.google.com/github/shubh7185/ML_Projects/blob/main/Truth_seeker.ipynb\" target=\"_parent\"><img src=\"https://colab.research.google.com/assets/colab-badge.svg\" alt=\"Open In Colab\"/></a>"
      ]
    },
    {
      "cell_type": "code",
      "execution_count": 3,
      "metadata": {
        "id": "zwM2lSO_rpt4"
      },
      "outputs": [],
      "source": [
        "import numpy as np\n",
        "import pandas as pd\n",
        "import matplotlib.pyplot as plt"
      ]
    },
    {
      "cell_type": "code",
      "source": [
        "dataset=pd.read_csv('/content/truth_seek.csv')"
      ],
      "metadata": {
        "id": "SS6LRU0ur4Dd"
      },
      "execution_count": 4,
      "outputs": []
    },
    {
      "cell_type": "code",
      "source": [
        "dataset.head()"
      ],
      "metadata": {
        "colab": {
          "base_uri": "https://localhost:8080/",
          "height": 354
        },
        "id": "iu_ibGsYr578",
        "outputId": "353c47a0-25cb-4c86-c1a2-4f95b11c18c9"
      },
      "execution_count": 5,
      "outputs": [
        {
          "output_type": "execute_result",
          "data": {
            "text/plain": [
              "   Unnamed: 0      author                                          statement  \\\n",
              "0           0  D.L. Davis  End of eviction moratorium means millions of A...   \n",
              "1           1  D.L. Davis  End of eviction moratorium means millions of A...   \n",
              "2           2  D.L. Davis  End of eviction moratorium means millions of A...   \n",
              "3           3  D.L. Davis  End of eviction moratorium means millions of A...   \n",
              "4           4  D.L. Davis  End of eviction moratorium means millions of A...   \n",
              "\n",
              "  target  BinaryNumTarget                 manual_keywords  \\\n",
              "0   True              1.0  Americans, eviction moratorium   \n",
              "1   True              1.0  Americans, eviction moratorium   \n",
              "2   True              1.0  Americans, eviction moratorium   \n",
              "3   True              1.0  Americans, eviction moratorium   \n",
              "4   True              1.0  Americans, eviction moratorium   \n",
              "\n",
              "                                               tweet 5_label_majority_answer  \\\n",
              "0  @POTUS Biden Blunders - 6 Month Update\\n\\nInfl...            Mostly Agree   \n",
              "1  @S0SickRick @Stairmaster_ @6d6f636869 Not as m...             NO MAJORITY   \n",
              "2  THE SUPREME COURT is siding with super rich pr...                   Agree   \n",
              "3  @POTUS Biden Blunders\\n\\nBroken campaign promi...            Mostly Agree   \n",
              "4  @OhComfy I agree. The confluence of events rig...                   Agree   \n",
              "\n",
              "  3_label_majority_answer  \n",
              "0                   Agree  \n",
              "1                   Agree  \n",
              "2                   Agree  \n",
              "3                   Agree  \n",
              "4                   Agree  "
            ],
            "text/html": [
              "\n",
              "  <div id=\"df-d2edb7d0-119e-4e04-b4a6-64f07a7dfb63\">\n",
              "    <div class=\"colab-df-container\">\n",
              "      <div>\n",
              "<style scoped>\n",
              "    .dataframe tbody tr th:only-of-type {\n",
              "        vertical-align: middle;\n",
              "    }\n",
              "\n",
              "    .dataframe tbody tr th {\n",
              "        vertical-align: top;\n",
              "    }\n",
              "\n",
              "    .dataframe thead th {\n",
              "        text-align: right;\n",
              "    }\n",
              "</style>\n",
              "<table border=\"1\" class=\"dataframe\">\n",
              "  <thead>\n",
              "    <tr style=\"text-align: right;\">\n",
              "      <th></th>\n",
              "      <th>Unnamed: 0</th>\n",
              "      <th>author</th>\n",
              "      <th>statement</th>\n",
              "      <th>target</th>\n",
              "      <th>BinaryNumTarget</th>\n",
              "      <th>manual_keywords</th>\n",
              "      <th>tweet</th>\n",
              "      <th>5_label_majority_answer</th>\n",
              "      <th>3_label_majority_answer</th>\n",
              "    </tr>\n",
              "  </thead>\n",
              "  <tbody>\n",
              "    <tr>\n",
              "      <th>0</th>\n",
              "      <td>0</td>\n",
              "      <td>D.L. Davis</td>\n",
              "      <td>End of eviction moratorium means millions of A...</td>\n",
              "      <td>True</td>\n",
              "      <td>1.0</td>\n",
              "      <td>Americans, eviction moratorium</td>\n",
              "      <td>@POTUS Biden Blunders - 6 Month Update\\n\\nInfl...</td>\n",
              "      <td>Mostly Agree</td>\n",
              "      <td>Agree</td>\n",
              "    </tr>\n",
              "    <tr>\n",
              "      <th>1</th>\n",
              "      <td>1</td>\n",
              "      <td>D.L. Davis</td>\n",
              "      <td>End of eviction moratorium means millions of A...</td>\n",
              "      <td>True</td>\n",
              "      <td>1.0</td>\n",
              "      <td>Americans, eviction moratorium</td>\n",
              "      <td>@S0SickRick @Stairmaster_ @6d6f636869 Not as m...</td>\n",
              "      <td>NO MAJORITY</td>\n",
              "      <td>Agree</td>\n",
              "    </tr>\n",
              "    <tr>\n",
              "      <th>2</th>\n",
              "      <td>2</td>\n",
              "      <td>D.L. Davis</td>\n",
              "      <td>End of eviction moratorium means millions of A...</td>\n",
              "      <td>True</td>\n",
              "      <td>1.0</td>\n",
              "      <td>Americans, eviction moratorium</td>\n",
              "      <td>THE SUPREME COURT is siding with super rich pr...</td>\n",
              "      <td>Agree</td>\n",
              "      <td>Agree</td>\n",
              "    </tr>\n",
              "    <tr>\n",
              "      <th>3</th>\n",
              "      <td>3</td>\n",
              "      <td>D.L. Davis</td>\n",
              "      <td>End of eviction moratorium means millions of A...</td>\n",
              "      <td>True</td>\n",
              "      <td>1.0</td>\n",
              "      <td>Americans, eviction moratorium</td>\n",
              "      <td>@POTUS Biden Blunders\\n\\nBroken campaign promi...</td>\n",
              "      <td>Mostly Agree</td>\n",
              "      <td>Agree</td>\n",
              "    </tr>\n",
              "    <tr>\n",
              "      <th>4</th>\n",
              "      <td>4</td>\n",
              "      <td>D.L. Davis</td>\n",
              "      <td>End of eviction moratorium means millions of A...</td>\n",
              "      <td>True</td>\n",
              "      <td>1.0</td>\n",
              "      <td>Americans, eviction moratorium</td>\n",
              "      <td>@OhComfy I agree. The confluence of events rig...</td>\n",
              "      <td>Agree</td>\n",
              "      <td>Agree</td>\n",
              "    </tr>\n",
              "  </tbody>\n",
              "</table>\n",
              "</div>\n",
              "      <button class=\"colab-df-convert\" onclick=\"convertToInteractive('df-d2edb7d0-119e-4e04-b4a6-64f07a7dfb63')\"\n",
              "              title=\"Convert this dataframe to an interactive table.\"\n",
              "              style=\"display:none;\">\n",
              "        \n",
              "  <svg xmlns=\"http://www.w3.org/2000/svg\" height=\"24px\"viewBox=\"0 0 24 24\"\n",
              "       width=\"24px\">\n",
              "    <path d=\"M0 0h24v24H0V0z\" fill=\"none\"/>\n",
              "    <path d=\"M18.56 5.44l.94 2.06.94-2.06 2.06-.94-2.06-.94-.94-2.06-.94 2.06-2.06.94zm-11 1L8.5 8.5l.94-2.06 2.06-.94-2.06-.94L8.5 2.5l-.94 2.06-2.06.94zm10 10l.94 2.06.94-2.06 2.06-.94-2.06-.94-.94-2.06-.94 2.06-2.06.94z\"/><path d=\"M17.41 7.96l-1.37-1.37c-.4-.4-.92-.59-1.43-.59-.52 0-1.04.2-1.43.59L10.3 9.45l-7.72 7.72c-.78.78-.78 2.05 0 2.83L4 21.41c.39.39.9.59 1.41.59.51 0 1.02-.2 1.41-.59l7.78-7.78 2.81-2.81c.8-.78.8-2.07 0-2.86zM5.41 20L4 18.59l7.72-7.72 1.47 1.35L5.41 20z\"/>\n",
              "  </svg>\n",
              "      </button>\n",
              "      \n",
              "  <style>\n",
              "    .colab-df-container {\n",
              "      display:flex;\n",
              "      flex-wrap:wrap;\n",
              "      gap: 12px;\n",
              "    }\n",
              "\n",
              "    .colab-df-convert {\n",
              "      background-color: #E8F0FE;\n",
              "      border: none;\n",
              "      border-radius: 50%;\n",
              "      cursor: pointer;\n",
              "      display: none;\n",
              "      fill: #1967D2;\n",
              "      height: 32px;\n",
              "      padding: 0 0 0 0;\n",
              "      width: 32px;\n",
              "    }\n",
              "\n",
              "    .colab-df-convert:hover {\n",
              "      background-color: #E2EBFA;\n",
              "      box-shadow: 0px 1px 2px rgba(60, 64, 67, 0.3), 0px 1px 3px 1px rgba(60, 64, 67, 0.15);\n",
              "      fill: #174EA6;\n",
              "    }\n",
              "\n",
              "    [theme=dark] .colab-df-convert {\n",
              "      background-color: #3B4455;\n",
              "      fill: #D2E3FC;\n",
              "    }\n",
              "\n",
              "    [theme=dark] .colab-df-convert:hover {\n",
              "      background-color: #434B5C;\n",
              "      box-shadow: 0px 1px 3px 1px rgba(0, 0, 0, 0.15);\n",
              "      filter: drop-shadow(0px 1px 2px rgba(0, 0, 0, 0.3));\n",
              "      fill: #FFFFFF;\n",
              "    }\n",
              "  </style>\n",
              "\n",
              "      <script>\n",
              "        const buttonEl =\n",
              "          document.querySelector('#df-d2edb7d0-119e-4e04-b4a6-64f07a7dfb63 button.colab-df-convert');\n",
              "        buttonEl.style.display =\n",
              "          google.colab.kernel.accessAllowed ? 'block' : 'none';\n",
              "\n",
              "        async function convertToInteractive(key) {\n",
              "          const element = document.querySelector('#df-d2edb7d0-119e-4e04-b4a6-64f07a7dfb63');\n",
              "          const dataTable =\n",
              "            await google.colab.kernel.invokeFunction('convertToInteractive',\n",
              "                                                     [key], {});\n",
              "          if (!dataTable) return;\n",
              "\n",
              "          const docLinkHtml = 'Like what you see? Visit the ' +\n",
              "            '<a target=\"_blank\" href=https://colab.research.google.com/notebooks/data_table.ipynb>data table notebook</a>'\n",
              "            + ' to learn more about interactive tables.';\n",
              "          element.innerHTML = '';\n",
              "          dataTable['output_type'] = 'display_data';\n",
              "          await google.colab.output.renderOutput(dataTable, element);\n",
              "          const docLink = document.createElement('div');\n",
              "          docLink.innerHTML = docLinkHtml;\n",
              "          element.appendChild(docLink);\n",
              "        }\n",
              "      </script>\n",
              "    </div>\n",
              "  </div>\n",
              "  "
            ]
          },
          "metadata": {},
          "execution_count": 5
        }
      ]
    },
    {
      "cell_type": "code",
      "source": [
        "import re\n",
        "import nltk\n",
        "nltk.download('stopwords')"
      ],
      "metadata": {
        "colab": {
          "base_uri": "https://localhost:8080/"
        },
        "id": "y4S-JrnKr-H1",
        "outputId": "b40b6be0-d686-4c9f-d7e3-a6748c90b4ed"
      },
      "execution_count": 8,
      "outputs": [
        {
          "output_type": "stream",
          "name": "stderr",
          "text": [
            "[nltk_data] Downloading package stopwords to /root/nltk_data...\n",
            "[nltk_data]   Package stopwords is already up-to-date!\n"
          ]
        },
        {
          "output_type": "execute_result",
          "data": {
            "text/plain": [
              "True"
            ]
          },
          "metadata": {},
          "execution_count": 8
        }
      ]
    },
    {
      "cell_type": "code",
      "source": [
        "import pandas as pd\n",
        "from sklearn.feature_extraction.text import CountVectorizer\n",
        "from nltk.corpus import stopwords\n",
        "from nltk.stem.porter import PorterStemmer\n",
        "ps = PorterStemmer()\n",
        "\n",
        "# Assuming you have the original dataset stored in the 'dataset' variable\n",
        "# and 'dataset' has a column named 'statement' containing the text data\n",
        "# and 'dataset' has a column named '3_label_majority_answer' containing the target variable\n",
        "\n",
        "# Preprocess the text data\n",
        "corpus = []\n",
        "for i in range(len(dataset)):\n",
        "    review = re.sub('[^a-zA-Z]', ' ', str(dataset['statement'][i]))\n",
        "    review = review.lower()\n",
        "    review = review.split()\n",
        "    review = [ps.stem(word) for word in review if not word in stopwords.words('english')]\n",
        "    review = ' '.join(review)\n",
        "    corpus.append(review)\n",
        "\n",
        "# Check the lengths of 'corpus' and 'y'\n",
        "print(len(corpus))  # Check length of 'corpus'\n",
        "print(len(dataset['3_label_majority_answer']))  # Check length of 'y'\n",
        "\n",
        "# Align the lengths of 'corpus' and 'y'\n",
        "min_length = min(len(corpus), len(dataset['3_label_majority_answer']))\n",
        "corpus = corpus[:min_length]\n",
        "y = dataset['3_label_majority_answer'][:min_length]\n",
        "\n",
        "# Apply CountVectorizer on 'corpus'\n",
        "cv = CountVectorizer(max_features=1500)\n",
        "x = cv.fit_transform(corpus).toarray()\n",
        "\n",
        "# Create a DataFrame for the transformed text features\n",
        "transformed_dataset = pd.DataFrame(x)\n",
        "\n",
        "# Add the '3_label_majority_answer' column (dummy variables) to the transformed dataset\n",
        "transformed_dataset['3_label_majority_answer'] = y\n",
        "\n",
        "# Display the transformed dataset\n",
        "print(transformed_dataset)\n"
      ],
      "metadata": {
        "colab": {
          "base_uri": "https://localhost:8080/"
        },
        "id": "QmjVwOo6sD4r",
        "outputId": "b71d23f3-049c-41fa-a070-15f100f481c2"
      },
      "execution_count": 11,
      "outputs": [
        {
          "output_type": "stream",
          "name": "stdout",
          "text": [
            "10190\n",
            "10190\n",
            "       0  1  2  3  4  5  6  7  8  9  ...  363  364  365  366  367  368  369  \\\n",
            "0      0  0  0  0  0  0  0  0  0  0  ...    0    0    0    0    0    0    0   \n",
            "1      0  0  0  0  0  0  0  0  0  0  ...    0    0    0    0    0    0    0   \n",
            "2      0  0  0  0  0  0  0  0  0  0  ...    0    0    0    0    0    0    0   \n",
            "3      0  0  0  0  0  0  0  0  0  0  ...    0    0    0    0    0    0    0   \n",
            "4      0  0  0  0  0  0  0  0  0  0  ...    0    0    0    0    0    0    0   \n",
            "...   .. .. .. .. .. .. .. .. .. ..  ...  ...  ...  ...  ...  ...  ...  ...   \n",
            "10185  0  0  0  0  0  0  0  0  0  0  ...    0    0    0    0    0    0    0   \n",
            "10186  0  0  0  0  0  0  0  0  0  0  ...    0    0    0    0    0    0    0   \n",
            "10187  0  0  0  0  0  0  0  0  0  0  ...    0    0    0    0    0    0    0   \n",
            "10188  0  0  0  0  0  0  0  0  0  0  ...    0    0    0    0    0    0    0   \n",
            "10189  0  0  0  0  0  0  0  0  0  0  ...    0    0    0    0    0    0    0   \n",
            "\n",
            "       370  371  3_label_majority_answer  \n",
            "0        0    0                    Agree  \n",
            "1        0    0                    Agree  \n",
            "2        0    0                    Agree  \n",
            "3        0    0                    Agree  \n",
            "4        0    0                    Agree  \n",
            "...    ...  ...                      ...  \n",
            "10185    0    0                    Agree  \n",
            "10186    0    0                    Agree  \n",
            "10187    0    0                    Agree  \n",
            "10188    0    0                    Agree  \n",
            "10189    0    0                      NaN  \n",
            "\n",
            "[10190 rows x 373 columns]\n"
          ]
        }
      ]
    },
    {
      "cell_type": "code",
      "source": [
        "from sklearn.feature_extraction.text import CountVectorizer\n",
        "cv = CountVectorizer(max_features= 1500)\n",
        "x=cv.fit_transform(corpus).toarray()\n",
        "y= pd.get_dummies(dataset['3_label_majority_answer'])\n",
        "y=y.iloc[:,1].values"
      ],
      "metadata": {
        "id": "8Ajvdt_gsKzB"
      },
      "execution_count": 12,
      "outputs": []
    },
    {
      "cell_type": "code",
      "source": [
        "print(len(corpus))  # Check length of 'corpus'\n",
        "print(len(y))       # Check length of 'y'"
      ],
      "metadata": {
        "colab": {
          "base_uri": "https://localhost:8080/"
        },
        "id": "-Litt4Vq-hs9",
        "outputId": "6fa1e3a4-00c0-4ba1-c0c9-324c910a82bf"
      },
      "execution_count": 13,
      "outputs": [
        {
          "output_type": "stream",
          "name": "stdout",
          "text": [
            "10190\n",
            "10190\n"
          ]
        }
      ]
    },
    {
      "cell_type": "code",
      "source": [
        "from sklearn.model_selection import train_test_split\n",
        "x_train,x_test,y_train,y_test=train_test_split(x,y,test_size=0.20,random_state=0)"
      ],
      "metadata": {
        "id": "QiskcYbH-kQT"
      },
      "execution_count": 14,
      "outputs": []
    },
    {
      "cell_type": "markdown",
      "source": [
        "**Naive Bayes**"
      ],
      "metadata": {
        "id": "m2z2yPdV-3AH"
      }
    },
    {
      "cell_type": "code",
      "source": [
        "from sklearn.naive_bayes import MultinomialNB\n",
        "truth_detect = MultinomialNB().fit(x_train,y_train)\n",
        "y_pred=truth_detect.predict(x_test)\n",
        "from sklearn.metrics import accuracy_score\n",
        "accuracy= accuracy_score(y_test,y_pred)\n",
        "accuracy"
      ],
      "metadata": {
        "colab": {
          "base_uri": "https://localhost:8080/"
        },
        "id": "J3ElKzeo-mq6",
        "outputId": "681c7d2b-1fed-4a50-a047-3aa6188f54c7"
      },
      "execution_count": 15,
      "outputs": [
        {
          "output_type": "execute_result",
          "data": {
            "text/plain": [
              "0.8812561334641805"
            ]
          },
          "metadata": {},
          "execution_count": 15
        }
      ]
    },
    {
      "cell_type": "markdown",
      "source": [
        "****"
      ],
      "metadata": {
        "id": "Hz56ZoMp-7z7"
      }
    },
    {
      "cell_type": "markdown",
      "source": [
        "**LogisticRegression**"
      ],
      "metadata": {
        "id": "z6wquEIa--3J"
      }
    },
    {
      "cell_type": "code",
      "source": [
        "from sklearn.linear_model import LogisticRegression\n",
        "from sklearn.metrics import accuracy_score\n",
        "accuracy= accuracy_score(y_test,y_pred)\n",
        "accuracy"
      ],
      "metadata": {
        "colab": {
          "base_uri": "https://localhost:8080/"
        },
        "id": "j9VFSSwM-pOW",
        "outputId": "f399f2da-1469-4d78-f483-a1e9d84cd78c"
      },
      "execution_count": 16,
      "outputs": [
        {
          "output_type": "execute_result",
          "data": {
            "text/plain": [
              "0.8812561334641805"
            ]
          },
          "metadata": {},
          "execution_count": 16
        }
      ]
    },
    {
      "cell_type": "markdown",
      "source": [
        "**SVM**"
      ],
      "metadata": {
        "id": "Ace411lM_BnB"
      }
    },
    {
      "cell_type": "code",
      "source": [
        "from sklearn.svm import SVC\n",
        "from sklearn.metrics import confusion_matrix , accuracy_score\n",
        "classifier= SVC(kernel='linear',random_state=0)\n",
        "classifier.fit(x_train,y_train)\n",
        "y_pred = classifier.predict(x_test)\n",
        "accuracy_score(y_test,y_pred)\n"
      ],
      "metadata": {
        "colab": {
          "base_uri": "https://localhost:8080/"
        },
        "id": "NXM0-rkX-rc_",
        "outputId": "132b0910-00e4-46e4-f114-b50423cc7609"
      },
      "execution_count": 17,
      "outputs": [
        {
          "output_type": "execute_result",
          "data": {
            "text/plain": [
              "0.9563297350343474"
            ]
          },
          "metadata": {},
          "execution_count": 17
        }
      ]
    },
    {
      "cell_type": "code",
      "source": [
        "from sklearn.metrics import confusion_matrix \n",
        "cm=confusion_matrix(y_test,y_pred)"
      ],
      "metadata": {
        "id": "ec6_aeCo-tws"
      },
      "execution_count": 18,
      "outputs": []
    },
    {
      "cell_type": "markdown",
      "source": [
        "**Confusion Matrix**"
      ],
      "metadata": {
        "id": "6TrtVN6l_G2S"
      }
    },
    {
      "cell_type": "code",
      "source": [
        "import seaborn as sns\n",
        "cm = confusion_matrix(y_test, y_pred)\n",
        "plt.figure(figsize=(8, 6))\n",
        "sns.heatmap(cm, annot=True, cmap='Blues', fmt='d')\n",
        "plt.title('Confusion Matrix')\n",
        "plt.xlabel('Predicted Label')\n",
        "plt.ylabel('True Label')\n",
        "plt.show()\n"
      ],
      "metadata": {
        "colab": {
          "base_uri": "https://localhost:8080/",
          "height": 564
        },
        "id": "qqSEJ58a-vv4",
        "outputId": "fb32d606-b863-4a91-eccc-7eef5348f2d0"
      },
      "execution_count": 19,
      "outputs": [
        {
          "output_type": "display_data",
          "data": {
            "text/plain": [
              "<Figure size 800x600 with 2 Axes>"
            ],
            "image/png": "[encoded data removed]"
          },
          "metadata": {}
        }
      ]
    },
    {
      "cell_type": "code",
      "source": [],
      "metadata": {
        "id": "LobC6S56-1Mt"
      },
      "execution_count": null,
      "outputs": []
    }
  ]
}